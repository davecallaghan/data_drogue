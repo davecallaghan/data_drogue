{
 "cells": [
  {
   "cell_type": "markdown",
   "source": [
    "# Data Drogue\n",
    "The data for the drogue is stored in the `data/drogue.csv` file."
   ],
   "metadata": {
    "collapsed": false,
    "pycharm": {
     "name": "#%% md\n"
    }
   }
  },
  {
   "cell_type": "code",
   "execution_count": 4,
   "outputs": [
    {
     "data": {
      "text/plain": "  first       last\n0  Dave  Callaghan",
      "text/html": "<div>\n<style scoped>\n    .dataframe tbody tr th:only-of-type {\n        vertical-align: middle;\n    }\n\n    .dataframe tbody tr th {\n        vertical-align: top;\n    }\n\n    .dataframe thead th {\n        text-align: right;\n    }\n</style>\n<table border=\"1\" class=\"dataframe\">\n  <thead>\n    <tr style=\"text-align: right;\">\n      <th></th>\n      <th>first</th>\n      <th>last</th>\n    </tr>\n  </thead>\n  <tbody>\n    <tr>\n      <th>0</th>\n      <td>Dave</td>\n      <td>Callaghan</td>\n    </tr>\n  </tbody>\n</table>\n</div>"
     },
     "execution_count": 4,
     "metadata": {},
     "output_type": "execute_result"
    }
   ],
   "source": [
    "import pandas as pd\n",
    "\n",
    "filename = '../data/drogue.csv'\n",
    "df = pd.read_csv(filename)\n",
    "df.head()"
   ],
   "metadata": {
    "collapsed": false,
    "pycharm": {
     "name": "#%%\n"
    }
   }
  },
  {
   "cell_type": "code",
   "execution_count": 5,
   "outputs": [
    {
     "data": {
      "text/plain": "           Item/SKU          UPC       M.A.P        MSRP  \\\n0    2KP-MW24-AWS30  1.95948E+11  $3,104.91   $6,199.95    \n1  2KP-MW24-AWS30BS  1.95948E+11  $3,509.91   $6,999.95    \n2    2KP-MW30-AWS30  1.95948E+11  $3,464.91   $6,929.82    \n3      2KP-RABGRH30  1.95948E+11  $2,609.91   $5,199.95    \n4      2KP-RABGRH36  1.95948E+11  $3,194.91   $6,399.95    \n\n                                                NAME Component 1 Component 2  \\\n0  ZLINE Stainless Steel 24\" Built-in Convection ...      MWO-24      AWS-30   \n1  ZLINE Black Stainless Steel 24\" Built-in Conve...   MWO-24-BS   AWS-30-BS   \n2  ZLINE Stainless Steel 30\" Built-in Convection ...      MWO-30      AWS-30   \n3  ZLINE 30\" Kitchen Package with Stainless Steel...    RA-BG-30       KB-30   \n4  ZLINE 36\" Kitchen Package with Stainless Steel...    RA-BG-36       KB-36   \n\n  Component 3 Component 4          Long Description ( OUTSIDE CHANNELS ONLY)  \\\n0           -           -  Experience Attainable Luxury¬Æ with the ZLINE ...   \n1           -           -  Experience Attainable Luxury¬Æ with the ZLINE ...   \n2           -           -  Experience Attainable Luxury¬Æ with the ZLINE ...   \n3           -           -  Experience Attainable Luxury¬Æ with the ZLINE ...   \n4           -           -  Experience Attainable Luxury¬Æ with the ZLINE ...   \n\n   ...                                           Bullet 5  \\\n0  ...  Multiple power levels with regular heat, broil...   \n1  ...  Multiple power levels with regular heat, broil...   \n2  ...  Multiple power levels with regular heat, broil...   \n3  ...  Convertible range hood - this unit can be exte...   \n4  ...  Convertible range hood - this unit can be exte...   \n\n                                            Bullet 6  \\\n0  Enjoy sensor-cooking, speed cooking, and multi...   \n1  Enjoy sensor-cooking, speed cooking, and multi...   \n2  Enjoy sensor-cooking, speed cooking, and multi...   \n3  4-Speed fan control (120/240/320/400 CFM) to c...   \n4  4-Speed fan control (120/240/320/400 CFM) to c...   \n\n                                            Bullet 7  \\\n0  Sensor cooking - With sensor cooking, the micr...   \n1  Sensor cooking - With sensor cooking, the micr...   \n2  Sensor cooking - With sensor cooking, the micr...   \n3  Ductwork easily connects to the top of the ran...   \n4  Ductwork easily connects to the top of the ran...   \n\n                                            Bullet 8  \\\n0  1 year parts warranty on the wall oven and 2 y...   \n1  1 year parts warranty on the wall oven and 2 y...   \n2  1 year parts warranty on the wall oven and 2 y...   \n3  Designed to fit standard (circular) ductwork f...   \n4  Designed to fit standard (circular) ductwork f...   \n\n                                            Bullet 9 Bullet 10 Bullet 11  \\\n0                                                NaN       NaN       NaN   \n1                                                NaN       NaN       NaN   \n2                                                NaN       NaN       NaN   \n3  Lifetime warranty on range hood motor, 3 year ...       NaN       NaN   \n4  Lifetime warranty on range hood motor, 3 year ...       NaN       NaN   \n\n  Bullet 12 Bullet 13                                            DB Link  \n0       NaN       NaN  https://www.dropbox.com/sh/nw9hgl0njidem6i/AAB...  \n1       NaN       NaN                                                NaN  \n2       NaN       NaN                                                NaN  \n3       NaN       NaN                                                NaN  \n4       NaN       NaN                                                NaN  \n\n[5 rows x 24 columns]",
      "text/html": "<div>\n<style scoped>\n    .dataframe tbody tr th:only-of-type {\n        vertical-align: middle;\n    }\n\n    .dataframe tbody tr th {\n        vertical-align: top;\n    }\n\n    .dataframe thead th {\n        text-align: right;\n    }\n</style>\n<table border=\"1\" class=\"dataframe\">\n  <thead>\n    <tr style=\"text-align: right;\">\n      <th></th>\n      <th>Item/SKU</th>\n      <th>UPC</th>\n      <th>M.A.P</th>\n      <th>MSRP</th>\n      <th>NAME</th>\n      <th>Component 1</th>\n      <th>Component 2</th>\n      <th>Component 3</th>\n      <th>Component 4</th>\n      <th>Long Description ( OUTSIDE CHANNELS ONLY)</th>\n      <th>...</th>\n      <th>Bullet 5</th>\n      <th>Bullet 6</th>\n      <th>Bullet 7</th>\n      <th>Bullet 8</th>\n      <th>Bullet 9</th>\n      <th>Bullet 10</th>\n      <th>Bullet 11</th>\n      <th>Bullet 12</th>\n      <th>Bullet 13</th>\n      <th>DB Link</th>\n    </tr>\n  </thead>\n  <tbody>\n    <tr>\n      <th>0</th>\n      <td>2KP-MW24-AWS30</td>\n      <td>1.95948E+11</td>\n      <td>$3,104.91</td>\n      <td>$6,199.95</td>\n      <td>ZLINE Stainless Steel 24\" Built-in Convection ...</td>\n      <td>MWO-24</td>\n      <td>AWS-30</td>\n      <td>-</td>\n      <td>-</td>\n      <td>Experience Attainable Luxury¬Æ with the ZLINE ...</td>\n      <td>...</td>\n      <td>Multiple power levels with regular heat, broil...</td>\n      <td>Enjoy sensor-cooking, speed cooking, and multi...</td>\n      <td>Sensor cooking - With sensor cooking, the micr...</td>\n      <td>1 year parts warranty on the wall oven and 2 y...</td>\n      <td>NaN</td>\n      <td>NaN</td>\n      <td>NaN</td>\n      <td>NaN</td>\n      <td>NaN</td>\n      <td>https://www.dropbox.com/sh/nw9hgl0njidem6i/AAB...</td>\n    </tr>\n    <tr>\n      <th>1</th>\n      <td>2KP-MW24-AWS30BS</td>\n      <td>1.95948E+11</td>\n      <td>$3,509.91</td>\n      <td>$6,999.95</td>\n      <td>ZLINE Black Stainless Steel 24\" Built-in Conve...</td>\n      <td>MWO-24-BS</td>\n      <td>AWS-30-BS</td>\n      <td>-</td>\n      <td>-</td>\n      <td>Experience Attainable Luxury¬Æ with the ZLINE ...</td>\n      <td>...</td>\n      <td>Multiple power levels with regular heat, broil...</td>\n      <td>Enjoy sensor-cooking, speed cooking, and multi...</td>\n      <td>Sensor cooking - With sensor cooking, the micr...</td>\n      <td>1 year parts warranty on the wall oven and 2 y...</td>\n      <td>NaN</td>\n      <td>NaN</td>\n      <td>NaN</td>\n      <td>NaN</td>\n      <td>NaN</td>\n      <td>NaN</td>\n    </tr>\n    <tr>\n      <th>2</th>\n      <td>2KP-MW30-AWS30</td>\n      <td>1.95948E+11</td>\n      <td>$3,464.91</td>\n      <td>$6,929.82</td>\n      <td>ZLINE Stainless Steel 30\" Built-in Convection ...</td>\n      <td>MWO-30</td>\n      <td>AWS-30</td>\n      <td>-</td>\n      <td>-</td>\n      <td>Experience Attainable Luxury¬Æ with the ZLINE ...</td>\n      <td>...</td>\n      <td>Multiple power levels with regular heat, broil...</td>\n      <td>Enjoy sensor-cooking, speed cooking, and multi...</td>\n      <td>Sensor cooking - With sensor cooking, the micr...</td>\n      <td>1 year parts warranty on the wall oven and 2 y...</td>\n      <td>NaN</td>\n      <td>NaN</td>\n      <td>NaN</td>\n      <td>NaN</td>\n      <td>NaN</td>\n      <td>NaN</td>\n    </tr>\n    <tr>\n      <th>3</th>\n      <td>2KP-RABGRH30</td>\n      <td>1.95948E+11</td>\n      <td>$2,609.91</td>\n      <td>$5,199.95</td>\n      <td>ZLINE 30\" Kitchen Package with Stainless Steel...</td>\n      <td>RA-BG-30</td>\n      <td>KB-30</td>\n      <td>-</td>\n      <td>-</td>\n      <td>Experience Attainable Luxury¬Æ with the ZLINE ...</td>\n      <td>...</td>\n      <td>Convertible range hood - this unit can be exte...</td>\n      <td>4-Speed fan control (120/240/320/400 CFM) to c...</td>\n      <td>Ductwork easily connects to the top of the ran...</td>\n      <td>Designed to fit standard (circular) ductwork f...</td>\n      <td>Lifetime warranty on range hood motor, 3 year ...</td>\n      <td>NaN</td>\n      <td>NaN</td>\n      <td>NaN</td>\n      <td>NaN</td>\n      <td>NaN</td>\n    </tr>\n    <tr>\n      <th>4</th>\n      <td>2KP-RABGRH36</td>\n      <td>1.95948E+11</td>\n      <td>$3,194.91</td>\n      <td>$6,399.95</td>\n      <td>ZLINE 36\" Kitchen Package with Stainless Steel...</td>\n      <td>RA-BG-36</td>\n      <td>KB-36</td>\n      <td>-</td>\n      <td>-</td>\n      <td>Experience Attainable Luxury¬Æ with the ZLINE ...</td>\n      <td>...</td>\n      <td>Convertible range hood - this unit can be exte...</td>\n      <td>4-Speed fan control (120/240/320/400 CFM) to c...</td>\n      <td>Ductwork easily connects to the top of the ran...</td>\n      <td>Designed to fit standard (circular) ductwork f...</td>\n      <td>Lifetime warranty on range hood motor, 3 year ...</td>\n      <td>NaN</td>\n      <td>NaN</td>\n      <td>NaN</td>\n      <td>NaN</td>\n      <td>NaN</td>\n    </tr>\n  </tbody>\n</table>\n<p>5 rows × 24 columns</p>\n</div>"
     },
     "execution_count": 5,
     "metadata": {},
     "output_type": "execute_result"
    }
   ],
   "source": [
    "approved_bundles = '../data/approved_bundles.csv'\n",
    "approved_bundles_df = pd.read_csv(approved_bundles)\n",
    "approved_bundles_df.head()"
   ],
   "metadata": {
    "collapsed": false,
    "pycharm": {
     "name": "#%%\n"
    }
   }
  },
  {
   "cell_type": "code",
   "execution_count": null,
   "outputs": [],
   "source": [
    "import csv\n"
   ],
   "metadata": {
    "collapsed": false,
    "pycharm": {
     "name": "#%%\n"
    }
   }
  }
 ],
 "metadata": {
  "kernelspec": {
   "display_name": "Python 3",
   "language": "python",
   "name": "python3"
  },
  "language_info": {
   "codemirror_mode": {
    "name": "ipython",
    "version": 2
   },
   "file_extension": ".py",
   "mimetype": "text/x-python",
   "name": "python",
   "nbconvert_exporter": "python",
   "pygments_lexer": "ipython2",
   "version": "2.7.6"
  }
 },
 "nbformat": 4,
 "nbformat_minor": 0
}